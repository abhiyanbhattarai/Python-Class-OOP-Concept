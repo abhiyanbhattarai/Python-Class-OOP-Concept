{
  "cells": [
    {
      "cell_type": "markdown",
      "metadata": {},
      "source": [
        "# OOP Concept in Python\n"
      ]
    },
    {
      "cell_type": "markdown",
      "metadata": {},
      "source": [
        " A **Class** is a blueprint or a template for creating objects. Objects are instances of a class, and a class defines the properties (attributes) and behaviors (methods) that the objects created from it will have. Classes are a fundamental concept in object-oriented programming (OOP), which is a programming paradigm that uses the concept of \"objects\" to organize and structure code."
      ]
    },
    {
      "cell_type": "code",
      "execution_count": 1,
      "metadata": {
        "id": "oHVhvgDNGlre"
      },
      "outputs": [],
      "source": [
        "class Loyalist:\n",
        "    def __init__(self, student, teacher):\n",
        "        self.student = student\n",
        "        self.teacher = teacher\n",
        "        \n",
        "    def __str__(self):\n",
        "        return self.teacher\n",
        "    def __repr__(self):\n",
        "        return self.student\n",
        "    def _private_method(self):\n",
        "        pass\n",
        "    def return_name(self):\n",
        "        return self.student, self.teacher"
      ]
    },
    {
      "cell_type": "code",
      "execution_count": 30,
      "metadata": {
        "id": "_XwBB7QxHSo_"
      },
      "outputs": [],
      "source": [
        "obj = Loyalist('XYZ', 'ABC')"
      ]
    },
    {
      "cell_type": "code",
      "execution_count": 3,
      "metadata": {
        "colab": {
          "base_uri": "https://localhost:8080/"
        },
        "id": "3QBagWBuHYM4",
        "outputId": "8b1d4703-e47c-4f00-fc5b-594460bce313"
      },
      "outputs": [
        {
          "name": "stdout",
          "output_type": "stream",
          "text": [
            "<class 'str'>\n"
          ]
        }
      ],
      "source": [
        "print(type(obj.__str__()))"
      ]
    },
    {
      "cell_type": "code",
      "execution_count": 4,
      "metadata": {
        "colab": {
          "base_uri": "https://localhost:8080/"
        },
        "id": "LPOZ3iKuHalM",
        "outputId": "c1ec76ce-eaa3-4c00-a603-39955770746c"
      },
      "outputs": [
        {
          "name": "stdout",
          "output_type": "stream",
          "text": [
            "<class 'str'>\n"
          ]
        }
      ],
      "source": [
        "print(type(obj.__repr__()))"
      ]
    },
    {
      "cell_type": "code",
      "execution_count": 5,
      "metadata": {
        "colab": {
          "base_uri": "https://localhost:8080/"
        },
        "id": "-fMwFWXeHfLI",
        "outputId": "f6e09bdf-20a4-41c0-cbf7-2459ab82c929"
      },
      "outputs": [
        {
          "name": "stdout",
          "output_type": "stream",
          "text": [
            "<class 'tuple'>\n"
          ]
        }
      ],
      "source": [
        "print(type(obj.return_name()))"
      ]
    },
    {
      "cell_type": "code",
      "execution_count": 8,
      "metadata": {
        "colab": {
          "base_uri": "https://localhost:8080/"
        },
        "id": "kQqz0eo4HsBH",
        "outputId": "3e63db7e-27cc-4443-e4e7-048efedc310a"
      },
      "outputs": [
        {
          "name": "stdout",
          "output_type": "stream",
          "text": [
            "<class 'method'>\n"
          ]
        }
      ],
      "source": [
        "print(type(obj._private_method))"
      ]
    },
    {
      "cell_type": "code",
      "execution_count": 9,
      "metadata": {
        "id": "Byc6b5IsIJXq"
      },
      "outputs": [],
      "source": [
        "class LCITFinance(Loyalist):\n",
        "    def __init__(self, student, teacher):\n",
        "        super().__init__(student, teacher)"
      ]
    },
    {
      "cell_type": "code",
      "execution_count": 10,
      "metadata": {
        "id": "RmATyLvpIcIu"
      },
      "outputs": [],
      "source": [
        "obj2 = LCITFinance('ABC', 'XYZ')"
      ]
    },
    {
      "cell_type": "code",
      "execution_count": 11,
      "metadata": {
        "colab": {
          "base_uri": "https://localhost:8080/",
          "height": 35
        },
        "id": "8DmdWmjWIhEs",
        "outputId": "520d8a40-8fd8-462d-dc9c-1ab0a5255113"
      },
      "outputs": [
        {
          "data": {
            "text/plain": [
              "'XYZ'"
            ]
          },
          "execution_count": 11,
          "metadata": {},
          "output_type": "execute_result"
        }
      ],
      "source": [
        "obj2.__str__()"
      ]
    },
    {
      "cell_type": "code",
      "execution_count": 12,
      "metadata": {
        "colab": {
          "base_uri": "https://localhost:8080/",
          "height": 35
        },
        "id": "gAPYVROtJqc1",
        "outputId": "5a861860-2271-4025-bb8b-8f342df8b1f0"
      },
      "outputs": [
        {
          "data": {
            "text/plain": [
              "'API->UserInterface-> scalable'"
            ]
          },
          "execution_count": 12,
          "metadata": {},
          "output_type": "execute_result"
        }
      ],
      "source": [
        "'API' '->' 'UserInterface' '-> scalable'"
      ]
    },
    {
      "cell_type": "code",
      "execution_count": 25,
      "metadata": {
        "id": "5a1hThnpKORJ"
      },
      "outputs": [],
      "source": [
        "\n",
        "class Resturants():\n",
        "    pass\n",
        "# Inheriting Resturants\n",
        "class RestroType(Resturants):\n",
        "    def fast_food(self):\n",
        "        pass\n",
        "    def hakka_restro(self):\n",
        "        pass\n",
        "\n",
        "    def dine_in_olny(self):\n",
        "        pass\n",
        "\n",
        "    def Tim(self):\n",
        "        pass\n",
        "# class Tim():\n",
        "#     pass\n",
        "\n",
        "# class Wendeys():\n",
        "#     pass\n",
        "\n",
        "class FoodCategory():\n",
        "    pass\n",
        "class FoodItem():\n",
        "    pass\n",
        "\n",
        "\n",
        "class PaymentProcess():\n",
        "    pass\n",
        "# Inheritance\n",
        "class PaymentType(PaymentProcess):\n",
        "    def cash():\n",
        "        pass"
      ]
    },
    {
      "cell_type": "code",
      "execution_count": 26,
      "metadata": {
        "id": "EU7SUqWUKZsY"
      },
      "outputs": [],
      "source": [
        "obj = Resturants()"
      ]
    },
    {
      "cell_type": "code",
      "execution_count": 27,
      "metadata": {
        "id": "whp_eO_uLSTC"
      },
      "outputs": [],
      "source": [
        "res_obj = RestroType()"
      ]
    },
    {
      "cell_type": "code",
      "execution_count": 29,
      "metadata": {
        "id": "xogkFh9LLja0"
      },
      "outputs": [],
      "source": [
        "res_obj.Tim()"
      ]
    },
    {
      "cell_type": "markdown",
      "metadata": {
        "id": "0eBK2ZXK5UVf"
      },
      "source": [
        "**Basic Python Class**"
      ]
    },
    {
      "cell_type": "markdown",
      "metadata": {
        "id": "IIMXK09e73Ri"
      },
      "source": [
        "Here in setdiscount, we have underscore(_), it means other class cannot use the attribute _discount other than Class Book."
      ]
    },
    {
      "cell_type": "code",
      "execution_count": null,
      "metadata": {
        "id": "Aa_FfKC74Zkw"
      },
      "outputs": [],
      "source": [
        "class Book:\n",
        "  def __init__(self, title, author, pages, price):\n",
        "    self.title = title\n",
        "    self.author = author\n",
        "    self.pages = pages\n",
        "    self.price = price\n",
        "    self.__secret = 'This is a secret attribute' # Properties with double underscores are hidden by the interpreter\n",
        "\n",
        "  def getprice(self):\n",
        "    if hasattr(self,'_discount'):\n",
        "      return self.price - (self.price * self._discount)\n",
        "    else:\n",
        "      return self.price\n",
        "\n",
        "  def setdiscount(self, amount):\n",
        "    self._discount = amount"
      ]
    },
    {
      "cell_type": "code",
      "execution_count": null,
      "metadata": {
        "id": "C7dmknv74ZgZ"
      },
      "outputs": [],
      "source": [
        "book1 = Book('ABC','xyz',200, 34.3)\n",
        "book2 = Book('War and Peace', 'JD Salinger', 234, 49.99)"
      ]
    },
    {
      "cell_type": "code",
      "execution_count": null,
      "metadata": {
        "colab": {
          "base_uri": "https://localhost:8080/"
        },
        "id": "jKwJLXOa4hyU",
        "outputId": "fca548f0-51a5-4519-de35-a7695300c6e0"
      },
      "outputs": [
        {
          "name": "stdout",
          "output_type": "stream",
          "text": [
            "49.99\n"
          ]
        }
      ],
      "source": [
        "print(book2.getprice())"
      ]
    },
    {
      "cell_type": "code",
      "execution_count": null,
      "metadata": {
        "id": "cML0p7HV5JdX"
      },
      "outputs": [],
      "source": [
        "book2.setdiscount(0.25)"
      ]
    },
    {
      "cell_type": "code",
      "execution_count": null,
      "metadata": {
        "colab": {
          "base_uri": "https://localhost:8080/"
        },
        "id": "8_uIxYqY5Tdn",
        "outputId": "571a91c4-e84f-4cb8-eb94-9337d488caa9"
      },
      "outputs": [
        {
          "name": "stdout",
          "output_type": "stream",
          "text": [
            "37.4925\n"
          ]
        }
      ],
      "source": [
        "print(book2.getprice())"
      ]
    },
    {
      "cell_type": "code",
      "execution_count": null,
      "metadata": {
        "colab": {
          "base_uri": "https://localhost:8080/",
          "height": 208
        },
        "id": "JpnpeNmp7yEE",
        "outputId": "d9153fff-616e-4fd0-ef10-56c4e8b6fcf6"
      },
      "outputs": [
        {
          "ename": "AttributeError",
          "evalue": "ignored",
          "output_type": "error",
          "traceback": [
            "\u001b[0;31m---------------------------------------------------------------------------\u001b[0m",
            "\u001b[0;31mAttributeError\u001b[0m                            Traceback (most recent call last)",
            "\u001b[0;32m<ipython-input-36-c83b2eb2e4ca>\u001b[0m in \u001b[0;36m<cell line: 1>\u001b[0;34m()\u001b[0m\n\u001b[0;32m----> 1\u001b[0;31m \u001b[0mprint\u001b[0m\u001b[0;34m(\u001b[0m\u001b[0mbook2\u001b[0m\u001b[0;34m.\u001b[0m\u001b[0m__secret\u001b[0m\u001b[0;34m)\u001b[0m\u001b[0;34m\u001b[0m\u001b[0;34m\u001b[0m\u001b[0m\n\u001b[0m",
            "\u001b[0;31mAttributeError\u001b[0m: 'Book' object has no attribute '__secret'"
          ]
        }
      ],
      "source": [
        "print(book2.__secret) # this shows an error"
      ]
    },
    {
      "cell_type": "code",
      "execution_count": null,
      "metadata": {
        "colab": {
          "base_uri": "https://localhost:8080/"
        },
        "id": "070sq9on8ekd",
        "outputId": "e8adaaab-8790-48d2-b308-67446f93bed4"
      },
      "outputs": [
        {
          "name": "stdout",
          "output_type": "stream",
          "text": [
            "This is a secret attribute\n"
          ]
        }
      ],
      "source": [
        "print(book2._Book__secret) # We can access this hidden attribute like this\n",
        "# This is prevent the other classes from overriding the attributes"
      ]
    },
    {
      "cell_type": "markdown",
      "metadata": {
        "id": "rFWnA3Mu93JJ"
      },
      "source": [
        "**Checking Instance Type**"
      ]
    },
    {
      "cell_type": "code",
      "execution_count": null,
      "metadata": {
        "id": "57Hpd7Y98veP"
      },
      "outputs": [],
      "source": [
        "class Book:\n",
        "  def __init__(self, title):\n",
        "    self.title = title"
      ]
    },
    {
      "cell_type": "code",
      "execution_count": null,
      "metadata": {
        "id": "bDCawc35-DNF"
      },
      "outputs": [],
      "source": [
        "class Newspaper:\n",
        "  def __init__(self, name):\n",
        "    self.name = name"
      ]
    },
    {
      "cell_type": "code",
      "execution_count": null,
      "metadata": {
        "id": "hZ_5fhB--KYa"
      },
      "outputs": [],
      "source": [
        "b1 = Book(\"The Catcher in the Rye\")\n",
        "b2 = Book(\"The Grapes of Wrath\")\n",
        "n1 = Newspaper('The Washington Post')\n",
        "n2 = Newspaper('The NewYork Times')"
      ]
    },
    {
      "cell_type": "code",
      "execution_count": null,
      "metadata": {
        "colab": {
          "base_uri": "https://localhost:8080/"
        },
        "id": "_Eia3Srg-iD8",
        "outputId": "2b37685e-1b6d-42fe-a75a-fc8d77f48984"
      },
      "outputs": [
        {
          "name": "stdout",
          "output_type": "stream",
          "text": [
            "<class '__main__.Book'>\n",
            "<class '__main__.Newspaper'>\n"
          ]
        }
      ],
      "source": [
        "# Getting the type of our instance\n",
        "print(type(b1))\n",
        "print(type(n1))"
      ]
    },
    {
      "cell_type": "code",
      "execution_count": null,
      "metadata": {
        "colab": {
          "base_uri": "https://localhost:8080/"
        },
        "id": "DlTPb0Qh-rsy",
        "outputId": "efe39ae7-35a1-4644-ec4e-e7062a4960a5"
      },
      "outputs": [
        {
          "name": "stdout",
          "output_type": "stream",
          "text": [
            "True\n",
            "False\n"
          ]
        }
      ],
      "source": [
        "# Checking if we have same types\n",
        "print(type(b1) == type(b2))\n",
        "print(type(n1) == type(b2))"
      ]
    },
    {
      "cell_type": "code",
      "execution_count": null,
      "metadata": {
        "colab": {
          "base_uri": "https://localhost:8080/"
        },
        "id": "LZKwTXPh-7Mi",
        "outputId": "1cde2232-fdd9-42ef-d507-b196fc7fe942"
      },
      "outputs": [
        {
          "name": "stdout",
          "output_type": "stream",
          "text": [
            "True\n",
            "True\n",
            "False\n"
          ]
        }
      ],
      "source": [
        "# instance to compare the particular class\n",
        "print(isinstance(b1,Book))\n",
        "print(isinstance(n1,Newspaper))\n",
        "print(isinstance(n2,Book))"
      ]
    },
    {
      "cell_type": "code",
      "execution_count": null,
      "metadata": {
        "colab": {
          "base_uri": "https://localhost:8080/"
        },
        "id": "IaK0qmCN_jo5",
        "outputId": "3ca029eb-4d09-40cb-9f3b-ea14d2674247"
      },
      "outputs": [
        {
          "name": "stdout",
          "output_type": "stream",
          "text": [
            "True\n"
          ]
        }
      ],
      "source": [
        "print(isinstance(n2,object))"
      ]
    },
    {
      "cell_type": "markdown",
      "metadata": {
        "id": "tIayYpFh_wie"
      },
      "source": [
        "**Class Method And Static Method**"
      ]
    },
    {
      "cell_type": "code",
      "execution_count": null,
      "metadata": {
        "id": "vl6gL7Oz_rsq"
      },
      "outputs": [],
      "source": [
        "from contextlib import redirect_stdout\n",
        "class Book:\n",
        "  # All caps means its a class attribute.\n",
        "  # BOOK_TYPES  is a class attribute here.\n",
        "  BOOK_TYPES = (\"HARDCOVER\",\"PAPERBAG\",\"EBOOK\")\n",
        "\n",
        "  # __ Make the private variable and are hidden from other classes\n",
        "  __booklist = None\n",
        "\n",
        "  # class method\n",
        "  @classmethod\n",
        "  def get_book_types(cls):\n",
        "    return cls.BOOK_TYPES\n",
        "\n",
        "  # Create a static method\n",
        "  # It doesnot change any class attribute or object\n",
        "  def getbooklist():\n",
        "    if Book.__booklist == None:\n",
        "      Book.__booklist = []\n",
        "    return Book.__booklist\n",
        "\n",
        "  def set_title(self, newtitle):\n",
        "    self.title = newtitle\n",
        "\n",
        "  def __init__(self, title, booktype):\n",
        "    self.title = title\n",
        "    if (not booktype in Book.BOOK_TYPES):\n",
        "      raise ValueError(f\"{booktype} is not a valid book type\")\n",
        "    else:\n",
        "      self.booktype = booktype\n",
        "\n"
      ]
    },
    {
      "cell_type": "code",
      "execution_count": null,
      "metadata": {
        "colab": {
          "base_uri": "https://localhost:8080/"
        },
        "id": "RJYu9UQfWN0u",
        "outputId": "ea2406e7-2392-43b3-e74a-2ae5221bb2b3"
      },
      "outputs": [
        {
          "name": "stdout",
          "output_type": "stream",
          "text": [
            "book types: ('HARDCOVER', 'PAPERBAG', 'EBOOK')\n"
          ]
        }
      ],
      "source": [
        "print(\"book types:\",Book.get_book_types())"
      ]
    },
    {
      "cell_type": "code",
      "execution_count": null,
      "metadata": {
        "id": "KT4v-viYVb18"
      },
      "outputs": [],
      "source": [
        "b1 = Book(\"Title1\", \"HARDCOVER\")\n",
        "# b2 = Book(\"Title1\",\"COMIC\")"
      ]
    },
    {
      "cell_type": "code",
      "execution_count": null,
      "metadata": {
        "id": "dCLntLjnXwIb"
      },
      "outputs": [],
      "source": [
        "b2 = Book(\"Title1\",\"PAPERBAG\")"
      ]
    },
    {
      "cell_type": "code",
      "execution_count": null,
      "metadata": {
        "colab": {
          "base_uri": "https://localhost:8080/"
        },
        "id": "sbblriK4WX_y",
        "outputId": "3b1fb405-08cd-4c19-8d0c-766583923f5f"
      },
      "outputs": [
        {
          "name": "stdout",
          "output_type": "stream",
          "text": [
            "[<__main__.Book object at 0x7ba8a6b202b0>]\n"
          ]
        }
      ],
      "source": [
        "thebooks = Book.getbooklist()\n",
        "thebooks.append(b2)\n",
        "print(thebooks)"
      ]
    },
    {
      "cell_type": "markdown",
      "metadata": {
        "id": "487Pi4hiYUu5"
      },
      "source": [
        "**CHALLENGE**"
      ]
    },
    {
      "cell_type": "code",
      "execution_count": null,
      "metadata": {
        "id": "NWVB2nJpX5cW"
      },
      "outputs": [],
      "source": [
        "# Challenge : Create a class to represnt stock information.\n",
        "# Your class should have properties for:\n",
        "# Ticker (string)\n",
        "# Price (float)\n",
        "# Company (string)\n",
        "# And a method get_description() which returns a string in the form\n",
        "# of \"Ticker: Company -- $Price\"\n",
        "\n",
        "class Stock:\n",
        "  def __init__(self, ticker, price, company):\n",
        "    self.ticker = ticker\n",
        "    self.price = price\n",
        "    self.company = company\n",
        "\n",
        "  def get_description(self):\n",
        "    return f'{self.ticker}:{self.company} -- ${self.price}'\n"
      ]
    },
    {
      "cell_type": "code",
      "execution_count": null,
      "metadata": {
        "id": "ztEyTrXNZAdU"
      },
      "outputs": [],
      "source": [
        "# -----EXAMPLE OUTPUT------\n",
        "msft = Stock(\"MSFT\", 342.0, \"Microsoft Corp\")\n",
        "goog = Stock(\"GOOG\", 135.0, \"Google Inc\")\n",
        "meta = Stock(\"META\", 275.0, \"Meta Platforms Inc\")\n",
        "amzn = Stock('AMZN', 135.0, \"Amazon Inc\")"
      ]
    },
    {
      "cell_type": "code",
      "execution_count": null,
      "metadata": {
        "colab": {
          "base_uri": "https://localhost:8080/"
        },
        "id": "d1KZkU72ZjzX",
        "outputId": "5fc9dd04-4242-4a65-98f9-dbc0a3942654"
      },
      "outputs": [
        {
          "name": "stdout",
          "output_type": "stream",
          "text": [
            "MSFT:Microsoft Corp -- $342.0\n",
            "GOOG:Google Inc -- $135.0\n",
            "META:Meta Platforms Inc -- $275.0\n",
            "AMZN:Amazon Inc -- $135.0\n"
          ]
        }
      ],
      "source": [
        "print(msft.get_description())\n",
        "print(goog.get_description())\n",
        "print(meta.get_description())\n",
        "print(amzn.get_description())"
      ]
    },
    {
      "cell_type": "markdown",
      "metadata": {
        "id": "N9nAubDJdNC-"
      },
      "source": [
        "## Inheritance"
      ]
    },
    {
      "cell_type": "markdown",
      "metadata": {},
      "source": [
        "- Inheritance is a feature of OOP that allows a class to inherit attributes and methods from another class.\n",
        "- It promotes code reuse and establishes a hierarchical relationship between classes."
      ]
    },
    {
      "cell_type": "code",
      "execution_count": null,
      "metadata": {
        "id": "_QBy4w91dMU-"
      },
      "outputs": [],
      "source": [
        "class Publication:\n",
        "  def __init__(self, title, price):\n",
        "    self.title = title\n",
        "    self.price = price\n",
        "\n",
        "class Periodical(Publication):\n",
        "  def __init__(self, title, price, period, publisher):\n",
        "    super().__init__(title, price)\n",
        "    self.period = period\n",
        "    self.publisher = publisher\n",
        "\n",
        "class Book(Publication):\n",
        "  def __init__(self, title, author, pages, price):\n",
        "    super().__init__(title, price)\n",
        "    self.author = author\n",
        "    self.pages = pages\n",
        "\n",
        "class Magazine(Periodical):\n",
        "  def __init__(self, title, publisher, price, period):\n",
        "    super().__init__(title, price, period, publisher)\n",
        "\n",
        "class Newspaper(Periodical):\n",
        "  def __init__(self, title, publisher, price, period):\n",
        "    super().__init__(title, price, period, publisher)"
      ]
    },
    {
      "cell_type": "code",
      "execution_count": null,
      "metadata": {
        "id": "Y72R8L28bCvH"
      },
      "outputs": [],
      "source": [
        "b1 = Book(\"Brave New World\", \"Aldous Huxley\",311, 29.0)\n",
        "n1 = Newspaper(\"NY Times\", 'New York Times Company',6.0,'Daily')\n",
        "m1 = Magazine('Scientific American', 'Springer Nature', 5.99,'Monthly')"
      ]
    },
    {
      "cell_type": "code",
      "execution_count": null,
      "metadata": {
        "colab": {
          "base_uri": "https://localhost:8080/"
        },
        "id": "QLGagJRBTVSQ",
        "outputId": "1945c5a3-4653-49be-9428-22da3af35c88"
      },
      "outputs": [
        {
          "name": "stdout",
          "output_type": "stream",
          "text": [
            "Aldous Huxley\n",
            "New York Times Company\n",
            "29.0 5.99 6.0\n"
          ]
        }
      ],
      "source": [
        "print(b1.author)\n",
        "print(n1.publisher)\n",
        "print(b1.price, m1.price, n1.price)"
      ]
    },
    {
      "cell_type": "markdown",
      "metadata": {
        "id": "ZnEArXRfT2cq"
      },
      "source": [
        "## Abstraction"
      ]
    },
    {
      "cell_type": "code",
      "execution_count": null,
      "metadata": {
        "id": "KBxND_mATzZl"
      },
      "outputs": [],
      "source": [
        "from abc import ABC, abstractmethod\n",
        "\n",
        "class GraphicShape(ABC):\n",
        "  def __init__(self):\n",
        "    super().__init__()\n",
        "\n",
        "  @abstractmethod\n",
        "  def calcArea(self):\n",
        "    pass\n",
        "\n",
        "class Circle(GraphicShape):\n",
        "  def __init__(self, radius):\n",
        "    self.radius = radius\n",
        "\n",
        "  def calcArea(self):\n",
        "    return 3.14 * (self.radius**2)\n",
        "\n",
        "class Square(GraphicShape):\n",
        "  def __init__(self, side):\n",
        "    self.side = side\n",
        "\n",
        "  def calcArea(self):\n",
        "    return self.side * self.side"
      ]
    },
    {
      "cell_type": "code",
      "execution_count": null,
      "metadata": {
        "id": "REpKLjCuYWPq"
      },
      "outputs": [],
      "source": [
        "# g = GraphicShape()"
      ]
    },
    {
      "cell_type": "code",
      "execution_count": null,
      "metadata": {
        "colab": {
          "base_uri": "https://localhost:8080/"
        },
        "id": "_1lml_VfY3fL",
        "outputId": "8801af36-f876-4972-c3c2-85d0e18eede0"
      },
      "outputs": [
        {
          "name": "stdout",
          "output_type": "stream",
          "text": [
            "314.0\n",
            "<bound method Square.calcArea of <__main__.Square object at 0x7da8296da740>>\n"
          ]
        }
      ],
      "source": [
        "c = Circle(10)\n",
        "print(c.calcArea())\n"
      ]
    },
    {
      "cell_type": "code",
      "execution_count": null,
      "metadata": {
        "colab": {
          "base_uri": "https://localhost:8080/"
        },
        "id": "jjxj32aDZEqT",
        "outputId": "b7afb12d-8861-4928-f222-007e06f5547d"
      },
      "outputs": [
        {
          "name": "stdout",
          "output_type": "stream",
          "text": [
            "144\n"
          ]
        }
      ],
      "source": [
        "s = Square(12)\n",
        "print(s.calcArea())"
      ]
    },
    {
      "cell_type": "markdown",
      "metadata": {
        "id": "FNKoAfBoaCcx"
      },
      "source": [
        "## Multiple Inheritance"
      ]
    },
    {
      "cell_type": "code",
      "execution_count": null,
      "metadata": {
        "id": "TgwArkzlZ552"
      },
      "outputs": [],
      "source": [
        "class A:\n",
        "  def __init__(self):\n",
        "    super().__init__()\n",
        "    self.prop1 = 'prop1'\n",
        "    self.name = 'Class A'\n",
        "\n",
        "class B:\n",
        "  def __init__(self):\n",
        "    super().__init__()\n",
        "    self.prop2 = \"prop2\"\n",
        "    self.name = \"Class B\"\n",
        "\n",
        "class C(A, B): # In multiple inheritance, class goes from left to right\n",
        "  def __init__(self):\n",
        "    super().__init__()\n",
        "\n",
        "  def showprops(self):\n",
        "    print(self.prop1)\n",
        "    print(self.prop2)\n",
        "    print(self.name)"
      ]
    },
    {
      "cell_type": "code",
      "execution_count": null,
      "metadata": {
        "colab": {
          "base_uri": "https://localhost:8080/"
        },
        "id": "o3aRyhNh36oO",
        "outputId": "1adf0f55-1d80-48fc-9a13-5d59d00f6c0e"
      },
      "outputs": [
        {
          "name": "stdout",
          "output_type": "stream",
          "text": [
            "(<class '__main__.C'>, <class '__main__.A'>, <class '__main__.B'>, <class 'object'>)\n",
            "prop1\n",
            "prop2\n",
            "Class A\n"
          ]
        }
      ],
      "source": [
        "c = C()\n",
        "print(C.__mro__)\n",
        "c.showprops()"
      ]
    },
    {
      "cell_type": "markdown",
      "metadata": {
        "id": "e6w62avL4PYc"
      },
      "source": [
        "## Interfaces"
      ]
    },
    {
      "cell_type": "code",
      "execution_count": null,
      "metadata": {
        "id": "SkwSgskY3-At"
      },
      "outputs": [],
      "source": [
        "from abc import ABC, abstractmethod"
      ]
    },
    {
      "cell_type": "code",
      "execution_count": null,
      "metadata": {
        "id": "tp32NWnt4cGm"
      },
      "outputs": [],
      "source": [
        "class GraphicShape(ABC):\n",
        "  def __init__(self):\n",
        "    super().__init__()\n",
        "\n",
        "  @abstractmethod\n",
        "  def calcArea(self):\n",
        "    pass\n",
        "\n",
        "class JSONify(ABC):\n",
        "  @abstractmethod\n",
        "  def toJSON(self):\n",
        "    pass\n",
        "\n",
        "class Circle(GraphicShape, JSONify):\n",
        "  def __init__(self, radius):\n",
        "    self.radius = radius\n",
        "\n",
        "  def calcArea(self):\n",
        "     return 3.14 * (self.radius ** 2)\n",
        "\n",
        "  def toJSON(self):\n",
        "     return f\"{{'Cricle': {str(self.calcArea())}}}\""
      ]
    },
    {
      "cell_type": "code",
      "execution_count": null,
      "metadata": {
        "colab": {
          "base_uri": "https://localhost:8080/"
        },
        "id": "ZMw8hq_T5Ulc",
        "outputId": "1d4649ae-535a-4553-e34f-08d926b59739"
      },
      "outputs": [
        {
          "name": "stdout",
          "output_type": "stream",
          "text": [
            "314.0\n",
            "{'Cricle': 314.0}\n"
          ]
        }
      ],
      "source": [
        "c = Circle(10)\n",
        "print(c.calcArea())\n",
        "print(c.toJSON())"
      ]
    },
    {
      "cell_type": "markdown",
      "metadata": {
        "id": "eIwvoGJDL1hm"
      },
      "source": [
        "## Composition"
      ]
    },
    {
      "cell_type": "code",
      "execution_count": null,
      "metadata": {
        "id": "KXo6nnvF56d1"
      },
      "outputs": [],
      "source": [
        "class Book:\n",
        "  def __init__ (self, title, price, author=None):\n",
        "    self.title = title\n",
        "    self.price = price\n",
        "\n",
        "    self.author = author\n",
        "\n",
        "    self.chapters = []\n",
        "\n",
        "  def addchapter(self, chapter):\n",
        "    self.chapters.append((chapter))\n",
        "\n",
        "  def getbookpagecount(self):\n",
        "    result = 0\n",
        "    for ch in self.chapters:\n",
        "      result += ch.pagecount\n",
        "    return result\n",
        "\n",
        "class Author:\n",
        "  def __init__(self, fname, lname):\n",
        "    self.fname = fname\n",
        "    self.lname = lname\n",
        "\n",
        "  def __str__(self):\n",
        "    return f\"{self.fname} {self.lname}\"\n",
        "\n",
        "class Chapter:\n",
        "  def __init__(self,name,pagecount):\n",
        "    self.name = name\n",
        "    self.pagecount = pagecount"
      ]
    },
    {
      "cell_type": "code",
      "execution_count": null,
      "metadata": {
        "id": "eAa7vDMEMYkk"
      },
      "outputs": [],
      "source": [
        "auth = Author(\"Leo\", \"Tolstoy\")\n",
        "b1 = Book(\"War and Peace\", 39.0, auth)"
      ]
    },
    {
      "cell_type": "code",
      "execution_count": null,
      "metadata": {
        "id": "hKlZ4Xo1NYYS"
      },
      "outputs": [],
      "source": [
        "b1.addchapter(Chapter('Chapter 1', 125))\n",
        "b1.addchapter(Chapter(\"Chapter 2\", 97))\n",
        "b1.addchapter(Chapter(\"Chapter 3\", 124))"
      ]
    },
    {
      "cell_type": "code",
      "execution_count": null,
      "metadata": {
        "colab": {
          "base_uri": "https://localhost:8080/"
        },
        "id": "dl8M-scFNtcs",
        "outputId": "01eb3bdf-6e03-4ce3-ad41-229fe14fb67b"
      },
      "outputs": [
        {
          "name": "stdout",
          "output_type": "stream",
          "text": [
            "War and Peace\n",
            "Leo Tolstoy\n"
          ]
        }
      ],
      "source": [
        "print(b1.title)\n",
        "print(b1.author)"
      ]
    },
    {
      "cell_type": "markdown",
      "metadata": {},
      "source": [
        "**Reference :**\n",
        "[LinkedIn Learning](https://www.linkedin.com/learning/python-object-oriented-programming-22888296/python-object-oriented-programming?u=2148769)"
      ]
    },
    {
      "cell_type": "code",
      "execution_count": null,
      "metadata": {
        "id": "WEtCt6N2OvD1"
      },
      "outputs": [],
      "source": []
    }
  ],
  "metadata": {
    "colab": {
      "provenance": []
    },
    "kernelspec": {
      "display_name": "Python 3",
      "name": "python3"
    },
    "language_info": {
      "codemirror_mode": {
        "name": "ipython",
        "version": 3
      },
      "file_extension": ".py",
      "mimetype": "text/x-python",
      "name": "python",
      "nbconvert_exporter": "python",
      "pygments_lexer": "ipython3",
      "version": "3.9.6"
    }
  },
  "nbformat": 4,
  "nbformat_minor": 0
}
